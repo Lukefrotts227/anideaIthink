{
 "cells": [
  {
   "cell_type": "code",
   "execution_count": 3,
   "metadata": {},
   "outputs": [],
   "source": [
    "import random\n",
    "import numpy as np\n",
    "from numpy.typing import NDArray"
   ]
  },
  {
   "cell_type": "code",
   "execution_count": 4,
   "metadata": {},
   "outputs": [],
   "source": [
    "# Skeleton code for data\n",
    "\n",
    "class dataObject: \n",
    "    def __init__(self, label, data: NDArray): \n",
    "        self.label = label\n",
    "        self.data = data\n",
    "\n",
    "class totalStore:\n",
    "    def __init__(self, data: NDArray, result): \n",
    "        self.data = data\n",
    "        self.result = result\n",
    "\n",
    "class myArray: \n",
    "    def __init__(self, arr: NDArray): \n",
    "        self.arr = arr \n"
   ]
  },
  {
   "cell_type": "code",
   "execution_count": null,
   "metadata": {},
   "outputs": [],
   "source": [
    "# dummy data for now \n"
   ]
  }
 ],
 "metadata": {
  "kernelspec": {
   "display_name": "venv",
   "language": "python",
   "name": "python3"
  },
  "language_info": {
   "codemirror_mode": {
    "name": "ipython",
    "version": 3
   },
   "file_extension": ".py",
   "mimetype": "text/x-python",
   "name": "python",
   "nbconvert_exporter": "python",
   "pygments_lexer": "ipython3",
   "version": "3.10.13"
  }
 },
 "nbformat": 4,
 "nbformat_minor": 2
}
