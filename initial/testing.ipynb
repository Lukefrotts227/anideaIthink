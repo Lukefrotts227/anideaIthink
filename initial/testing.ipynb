{
 "cells": [
  {
   "cell_type": "code",
   "execution_count": 4,
   "metadata": {},
   "outputs": [],
   "source": [
    "import random\n",
    "import numpy as np\n",
    "from numpy.typing import NDArray\n"
   ]
  },
  {
   "cell_type": "code",
   "execution_count": 9,
   "metadata": {},
   "outputs": [],
   "source": [
    "# Skeleton code for data\n",
    "\n",
    "class dataObject:\n",
    "    def __init__(self, data: NDArray, result, label): \n",
    "        self.data = data\n",
    "        self.result = result\n",
    "        self.label = label\n",
    "\n",
    "# type that is a numpy array of dataObjects\n",
    "\n",
    "\n"
   ]
  },
  {
   "cell_type": "code",
   "execution_count": 11,
   "metadata": {},
   "outputs": [],
   "source": [
    "# dummy data for now \n",
    "# lets say we are looking at net study time(weekly) to class score\n",
    "# first a test object shown below\n",
    "x = dataObject(np.array([6, 2, 3, 6, 1, 0, 0, 7]), 88, \"Calculus\")\n",
    "myArr = np.array([x])\n",
    "myArr = np.append(myArr, dataObject(np.array([3, 4, 2, 3, 5, 2, 0, 0]), 66, \"Calculus\"))\n",
    "myArr = np.append(myArr, dataObject(np.array([3, 0, 0, 0, 4, 5, 3, 3]), 84, \"Calculus\"))\n",
    "myArr = np.append(myArr, dataObject(np.array([0, 0, 0, 0, 0, 0, 0, 0]), 45, \"Calculus\"))\n",
    "myArr = np.append(myArr, dataObject(np.array([0, 0, 0, 4, 5, 0, 0, 0]), 93, \"English\"))\n",
    "myArr = np.append(myArr, dataObject(np.array([0, 0, 0, 0, 0, 5, 0, 0]), 77, \"English\"))\n",
    "myArr = np.append(myArr, dataObject(np.array([0, 0, 0, 0, 0, 0, 0, 0]), 72, \"English\"))\n",
    "myArr = np.append(myArr, dataObject(np.array([1, 1, 1, 1, 1, 1, 1, 1]), 99, \"English\"))\n",
    "myArr = np.append(myArr, dataObject(np.array([0, 2, 0, 5, 0, 0, 5, 0]), 90, \"History\"))\n",
    "myArr = np.append(myArr, dataObject(np.array([2, 0, 0, 1, 0, 0, 0, 0]), 80, \"History\"))"
   ]
  }
 ],
 "metadata": {
  "kernelspec": {
   "display_name": "venv",
   "language": "python",
   "name": "python3"
  },
  "language_info": {
   "codemirror_mode": {
    "name": "ipython",
    "version": 3
   },
   "file_extension": ".py",
   "mimetype": "text/x-python",
   "name": "python",
   "nbconvert_exporter": "python",
   "pygments_lexer": "ipython3",
   "version": "3.10.13"
  }
 },
 "nbformat": 4,
 "nbformat_minor": 2
}
